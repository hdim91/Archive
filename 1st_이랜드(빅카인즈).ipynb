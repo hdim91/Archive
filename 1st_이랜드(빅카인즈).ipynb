{
  "nbformat": 4,
  "nbformat_minor": 0,
  "metadata": {
    "colab": {
      "name": "1st - 이랜드(빅카인즈).ipynb",
      "version": "0.3.2",
      "provenance": [],
      "include_colab_link": true
    },
    "kernelspec": {
      "name": "python3",
      "display_name": "Python 3"
    },
    "accelerator": "GPU"
  },
  "cells": [
    {
      "cell_type": "markdown",
      "metadata": {
        "id": "view-in-github",
        "colab_type": "text"
      },
      "source": [
        "<a href=\"https://colab.research.google.com/github/hdim91/RA---KDI/blob/master/1st_%EC%9D%B4%EB%9E%9C%EB%93%9C(%EB%B9%85%EC%B9%B4%EC%9D%B8%EC%A6%88).ipynb\" target=\"_parent\"><img src=\"https://colab.research.google.com/assets/colab-badge.svg\" alt=\"Open In Colab\"/></a>"
      ]
    },
    {
      "metadata": {
        "id": "tE75ugXtCgzA",
        "colab_type": "code",
        "colab": {}
      },
      "cell_type": "code",
      "source": [
        "from bs4 import BeautifulSoup as bs\n",
        "import requests,re,codecs\n",
        "import pandas as pd\n",
        "import csv\n",
        "import time"
      ],
      "execution_count": 0,
      "outputs": []
    },
    {
      "metadata": {
        "id": "mBhshoqqCgzD",
        "colab_type": "code",
        "colab": {}
      },
      "cell_type": "code",
      "source": [
        "# Searchpad\n",
        "\n",
        "# div class=\"deSearchBox scrollbarStyle mCustomScrollbar _mCS_12\" id=\"deSearchBox\" tyle=\"display: block;\"\n",
        "# div class=\"deSeTd tdA\"\n",
        "#     input type=\"text\" clas=\"dateBox\" id=\"fromdate\"\n",
        "#     들어가야 할 것: 2006-01-01\n",
        "#     input type=\"text\" clas=\"dateBox\" id=\"todate\"\n",
        "#     들어가야 할 것: 2008-12-31\n",
        "\n",
        "# div class \"deSearchBtn\"\n",
        "#     button id = \"searchSubmit\" class=\"activate\""
      ],
      "execution_count": 0,
      "outputs": []
    },
    {
      "metadata": {
        "scrolled": true,
        "id": "lNOysnMVCgzF",
        "colab_type": "code",
        "colab": {}
      },
      "cell_type": "code",
      "source": [
        "# Query data for searching for \"이랜드\"\n",
        "lines = '''pageInfo:bksMain\n",
        "login_chk:null\n",
        "LOGIN_SN:null\n",
        "LOGIN_NAME:null\n",
        "indexName:news\n",
        "keyword:근로시간\n",
        "byLine:\n",
        "searchScope:1\n",
        "searchFtr:1\n",
        "startDate:2018-01-01\n",
        "endDate:2019-04-09\n",
        "sortMethod:date\n",
        "contentLength:100\n",
        "providerCode:\n",
        "categoryCode:\n",
        "incidentCode:\n",
        "dateCode:\n",
        "highlighting:true\n",
        "sessionUSID:\n",
        "sessionUUID:test\n",
        "listMode:\n",
        "categoryTab:\n",
        "newsId:\n",
        "delnewsId:\n",
        "delquotationId:\n",
        "delquotationtxt:\n",
        "filterProviderCode:\n",
        "filterCategoryCode:\n",
        "filterIncidentCode:\n",
        "filterDateCode:\n",
        "filterAnalysisCode:\n",
        "startNo:1\n",
        "resultNumber:100\n",
        "topmenuoff:\n",
        "resultState:\n",
        "keywordJson:{\"searchDetailTxt1\":\"근로시간\",\"agreeDetailTxt1\":\"\",\"needDetailTxt1\":\"\",\"exceptDetailTxt1\":\"\",\"o_id\":\"option1\",\"startDate\":\"2018-01-01\",\"endDate\":\"2019-04-09\",\"providerNm\":\"\",\"categoryNm\":\"\",\"incidentCategoryNm\":\"\",\"providerCode\":\"\",\"categoryCode\":\"\",\"incidentCategoryCode\":\"\",\"searchFtr\":\"1\",\"searchScope\":\"1\",\"searchKeyword\":\"근로시간\"}\n",
        "keywordFilterJson:\n",
        "realKeyword:\n",
        "keywordYn:Y\n",
        "totalCount:\n",
        "interval:\n",
        "quotationKeyword1:\n",
        "quotationKeyword2:\n",
        "quotationKeyword3:\n",
        "printingPage:\n",
        "searchFromUseYN:N\n",
        "searchFormName:\n",
        "searchFormSaveSn:\n",
        "mainTodayPersonYn:\n",
        "period:'''.splitlines()"
      ],
      "execution_count": 0,
      "outputs": []
    },
    {
      "metadata": {
        "id": "wCUTUnMFCgzH",
        "colab_type": "code",
        "colab": {}
      },
      "cell_type": "code",
      "source": [
        "# Construct a dictionary for the targeting url\n",
        "data = {}\n",
        "for line in lines:\n",
        "    key,value = line.split(':',1)\n",
        "    if value=='null':\n",
        "        value = None\n",
        "    data[key] = value"
      ],
      "execution_count": 0,
      "outputs": []
    },
    {
      "metadata": {
        "scrolled": true,
        "id": "2KQH-fR0CgzK",
        "colab_type": "code",
        "colab": {}
      },
      "cell_type": "code",
      "source": [
        "# search for html\n",
        "response = requests.post(result_url,data=data)\n",
        "html = response.text\n",
        "soup = bs(html,\"html.parser\")"
      ],
      "execution_count": 0,
      "outputs": []
    },
    {
      "metadata": {
        "id": "j5idd_vDCgzM",
        "colab_type": "code",
        "colab": {}
      },
      "cell_type": "code",
      "source": [
        "url_list = {}\n",
        "result_url = \"https://www.bigkinds.or.kr/news/detailSearch.do\"\n",
        "\n",
        "for index in range(1,100): # There are 51 of indexes for the keyword \"이랜드\"\n",
        "    data['startNo'] = index # Set the page number\n",
        "    response = requests.post(result_url,data=data) # Call url of targeting page\n",
        "    html = response.text # Save html text as \"html\"\n",
        "    soup = bs(html,\"html.parser\") # Parsing html text\n",
        "    for tag in soup.select('.resultList li h3'):\n",
        "        key = tag.text.strip() # Setting title of an article as the key value of dictionary\n",
        "        doc_id = tag['id'].replace('news_','')\n",
        "        value = 'https://www.bigkinds.or.kr/news/detailView.do?docId={}&returnCnt=1'.format(doc_id) # Setting article url as the value of dictionary\n",
        "        url_list[key] = value # Construct the dictionary of the list of news articles' titles and urls \n",
        "    "
      ],
      "execution_count": 0,
      "outputs": []
    },
    {
      "metadata": {
        "id": "TeC-u1K-CgzO",
        "colab_type": "code",
        "colab": {}
      },
      "cell_type": "code",
      "source": [
        "main_df = pd.DataFrame(list(url_list.items()),columns=['Title','url'])"
      ],
      "execution_count": 0,
      "outputs": []
    },
    {
      "metadata": {
        "id": "r_9xvItjH0S3",
        "colab_type": "code",
        "colab": {
          "base_uri": "https://localhost:8080/",
          "height": 35
        },
        "outputId": "356c8179-e6a9-42ef-d998-e03d3acb5cdd"
      },
      "cell_type": "code",
      "source": [
        "main_df.shape"
      ],
      "execution_count": 11,
      "outputs": [
        {
          "output_type": "execute_result",
          "data": {
            "text/plain": [
              "(9369, 2)"
            ]
          },
          "metadata": {
            "tags": []
          },
          "execution_count": 11
        }
      ]
    },
    {
      "metadata": {
        "id": "Ld1a4t37H0dC",
        "colab_type": "code",
        "colab": {}
      },
      "cell_type": "code",
      "source": [
        ""
      ],
      "execution_count": 0,
      "outputs": []
    },
    {
      "metadata": {
        "id": "wqeJ2s8vCgzQ",
        "colab_type": "code",
        "colab": {
          "base_uri": "https://localhost:8080/",
          "height": 892
        },
        "outputId": "f3ea5df3-0295-4281-a500-540ad1289d02"
      },
      "cell_type": "code",
      "source": [
        "main_df.to_excel(\"https://drive.google.com/drive/folders/1n3_xMUnvFLzg82Hjd_zNm009RPK0NwCP/url_df.xlsx\") # Save url_df as excel file for future use - just in case"
      ],
      "execution_count": 13,
      "outputs": [
        {
          "output_type": "error",
          "ename": "FileNotFoundError",
          "evalue": "ignored",
          "traceback": [
            "\u001b[0;31m---------------------------------------------------------------------------\u001b[0m",
            "\u001b[0;31mFileNotFoundError\u001b[0m                         Traceback (most recent call last)",
            "\u001b[0;32m<ipython-input-13-2437dfeecce2>\u001b[0m in \u001b[0;36m<module>\u001b[0;34m()\u001b[0m\n\u001b[0;32m----> 1\u001b[0;31m \u001b[0mmain_df\u001b[0m\u001b[0;34m.\u001b[0m\u001b[0mto_excel\u001b[0m\u001b[0;34m(\u001b[0m\u001b[0;34m\"https://drive.google.com/drive/folders/1n3_xMUnvFLzg82Hjd_zNm009RPK0NwCP/url_df.xlsx\"\u001b[0m\u001b[0;34m)\u001b[0m \u001b[0;31m# Save url_df as excel file for future use - just in case\u001b[0m\u001b[0;34m\u001b[0m\u001b[0;34m\u001b[0m\u001b[0m\n\u001b[0m",
            "\u001b[0;32m/usr/local/lib/python3.6/dist-packages/pandas/core/frame.py\u001b[0m in \u001b[0;36mto_excel\u001b[0;34m(self, excel_writer, sheet_name, na_rep, float_format, columns, header, index, index_label, startrow, startcol, engine, merge_cells, encoding, inf_rep, verbose, freeze_panes)\u001b[0m\n\u001b[1;32m   1543\u001b[0m         formatter.write(excel_writer, sheet_name=sheet_name, startrow=startrow,\n\u001b[1;32m   1544\u001b[0m                         \u001b[0mstartcol\u001b[0m\u001b[0;34m=\u001b[0m\u001b[0mstartcol\u001b[0m\u001b[0;34m,\u001b[0m \u001b[0mfreeze_panes\u001b[0m\u001b[0;34m=\u001b[0m\u001b[0mfreeze_panes\u001b[0m\u001b[0;34m,\u001b[0m\u001b[0;34m\u001b[0m\u001b[0;34m\u001b[0m\u001b[0m\n\u001b[0;32m-> 1545\u001b[0;31m                         engine=engine)\n\u001b[0m\u001b[1;32m   1546\u001b[0m \u001b[0;34m\u001b[0m\u001b[0m\n\u001b[1;32m   1547\u001b[0m     def to_stata(self, fname, convert_dates=None, write_index=True,\n",
            "\u001b[0;32m/usr/local/lib/python3.6/dist-packages/pandas/io/formats/excel.py\u001b[0m in \u001b[0;36mwrite\u001b[0;34m(self, writer, sheet_name, startrow, startcol, freeze_panes, engine)\u001b[0m\n\u001b[1;32m    649\u001b[0m                            freeze_panes=freeze_panes)\n\u001b[1;32m    650\u001b[0m         \u001b[0;32mif\u001b[0m \u001b[0mneed_save\u001b[0m\u001b[0;34m:\u001b[0m\u001b[0;34m\u001b[0m\u001b[0;34m\u001b[0m\u001b[0m\n\u001b[0;32m--> 651\u001b[0;31m             \u001b[0mwriter\u001b[0m\u001b[0;34m.\u001b[0m\u001b[0msave\u001b[0m\u001b[0;34m(\u001b[0m\u001b[0;34m)\u001b[0m\u001b[0;34m\u001b[0m\u001b[0;34m\u001b[0m\u001b[0m\n\u001b[0m",
            "\u001b[0;32m/usr/local/lib/python3.6/dist-packages/pandas/io/excel.py\u001b[0m in \u001b[0;36msave\u001b[0;34m(self)\u001b[0m\n\u001b[1;32m    860\u001b[0m         \u001b[0mSave\u001b[0m \u001b[0mworkbook\u001b[0m \u001b[0mto\u001b[0m \u001b[0mdisk\u001b[0m\u001b[0;34m.\u001b[0m\u001b[0;34m\u001b[0m\u001b[0;34m\u001b[0m\u001b[0m\n\u001b[1;32m    861\u001b[0m         \"\"\"\n\u001b[0;32m--> 862\u001b[0;31m         \u001b[0;32mreturn\u001b[0m \u001b[0mself\u001b[0m\u001b[0;34m.\u001b[0m\u001b[0mbook\u001b[0m\u001b[0;34m.\u001b[0m\u001b[0msave\u001b[0m\u001b[0;34m(\u001b[0m\u001b[0mself\u001b[0m\u001b[0;34m.\u001b[0m\u001b[0mpath\u001b[0m\u001b[0;34m)\u001b[0m\u001b[0;34m\u001b[0m\u001b[0;34m\u001b[0m\u001b[0m\n\u001b[0m\u001b[1;32m    863\u001b[0m \u001b[0;34m\u001b[0m\u001b[0m\n\u001b[1;32m    864\u001b[0m     def write_cells(self, cells, sheet_name=None, startrow=0, startcol=0,\n",
            "\u001b[0;32m/usr/local/lib/python3.6/dist-packages/openpyxl/workbook/workbook.py\u001b[0m in \u001b[0;36msave\u001b[0;34m(self, filename)\u001b[0m\n\u001b[1;32m    388\u001b[0m             \u001b[0msave_dump\u001b[0m\u001b[0;34m(\u001b[0m\u001b[0mself\u001b[0m\u001b[0;34m,\u001b[0m \u001b[0mfilename\u001b[0m\u001b[0;34m)\u001b[0m\u001b[0;34m\u001b[0m\u001b[0;34m\u001b[0m\u001b[0m\n\u001b[1;32m    389\u001b[0m         \u001b[0;32melse\u001b[0m\u001b[0;34m:\u001b[0m\u001b[0;34m\u001b[0m\u001b[0;34m\u001b[0m\u001b[0m\n\u001b[0;32m--> 390\u001b[0;31m             \u001b[0msave_workbook\u001b[0m\u001b[0;34m(\u001b[0m\u001b[0mself\u001b[0m\u001b[0;34m,\u001b[0m \u001b[0mfilename\u001b[0m\u001b[0;34m)\u001b[0m\u001b[0;34m\u001b[0m\u001b[0;34m\u001b[0m\u001b[0m\n\u001b[0m\u001b[1;32m    391\u001b[0m \u001b[0;34m\u001b[0m\u001b[0m\n\u001b[1;32m    392\u001b[0m \u001b[0;34m\u001b[0m\u001b[0m\n",
            "\u001b[0;32m/usr/local/lib/python3.6/dist-packages/openpyxl/writer/excel.py\u001b[0m in \u001b[0;36msave_workbook\u001b[0;34m(workbook, filename)\u001b[0m\n\u001b[1;32m    280\u001b[0m \u001b[0;34m\u001b[0m\u001b[0m\n\u001b[1;32m    281\u001b[0m     \"\"\"\n\u001b[0;32m--> 282\u001b[0;31m     \u001b[0marchive\u001b[0m \u001b[0;34m=\u001b[0m \u001b[0mZipFile\u001b[0m\u001b[0;34m(\u001b[0m\u001b[0mfilename\u001b[0m\u001b[0;34m,\u001b[0m \u001b[0;34m'w'\u001b[0m\u001b[0;34m,\u001b[0m \u001b[0mZIP_DEFLATED\u001b[0m\u001b[0;34m,\u001b[0m \u001b[0mallowZip64\u001b[0m\u001b[0;34m=\u001b[0m\u001b[0;32mTrue\u001b[0m\u001b[0;34m)\u001b[0m\u001b[0;34m\u001b[0m\u001b[0;34m\u001b[0m\u001b[0m\n\u001b[0m\u001b[1;32m    283\u001b[0m     \u001b[0mwriter\u001b[0m \u001b[0;34m=\u001b[0m \u001b[0mExcelWriter\u001b[0m\u001b[0;34m(\u001b[0m\u001b[0mworkbook\u001b[0m\u001b[0;34m,\u001b[0m \u001b[0marchive\u001b[0m\u001b[0;34m)\u001b[0m\u001b[0;34m\u001b[0m\u001b[0;34m\u001b[0m\u001b[0m\n\u001b[1;32m    284\u001b[0m     \u001b[0mwriter\u001b[0m\u001b[0;34m.\u001b[0m\u001b[0msave\u001b[0m\u001b[0;34m(\u001b[0m\u001b[0mfilename\u001b[0m\u001b[0;34m)\u001b[0m\u001b[0;34m\u001b[0m\u001b[0;34m\u001b[0m\u001b[0m\n",
            "\u001b[0;32m/usr/lib/python3.6/zipfile.py\u001b[0m in \u001b[0;36m__init__\u001b[0;34m(self, file, mode, compression, allowZip64)\u001b[0m\n\u001b[1;32m   1111\u001b[0m             \u001b[0;32mwhile\u001b[0m \u001b[0;32mTrue\u001b[0m\u001b[0;34m:\u001b[0m\u001b[0;34m\u001b[0m\u001b[0;34m\u001b[0m\u001b[0m\n\u001b[1;32m   1112\u001b[0m                 \u001b[0;32mtry\u001b[0m\u001b[0;34m:\u001b[0m\u001b[0;34m\u001b[0m\u001b[0;34m\u001b[0m\u001b[0m\n\u001b[0;32m-> 1113\u001b[0;31m                     \u001b[0mself\u001b[0m\u001b[0;34m.\u001b[0m\u001b[0mfp\u001b[0m \u001b[0;34m=\u001b[0m \u001b[0mio\u001b[0m\u001b[0;34m.\u001b[0m\u001b[0mopen\u001b[0m\u001b[0;34m(\u001b[0m\u001b[0mfile\u001b[0m\u001b[0;34m,\u001b[0m \u001b[0mfilemode\u001b[0m\u001b[0;34m)\u001b[0m\u001b[0;34m\u001b[0m\u001b[0;34m\u001b[0m\u001b[0m\n\u001b[0m\u001b[1;32m   1114\u001b[0m                 \u001b[0;32mexcept\u001b[0m \u001b[0mOSError\u001b[0m\u001b[0;34m:\u001b[0m\u001b[0;34m\u001b[0m\u001b[0;34m\u001b[0m\u001b[0m\n\u001b[1;32m   1115\u001b[0m                     \u001b[0;32mif\u001b[0m \u001b[0mfilemode\u001b[0m \u001b[0;32min\u001b[0m \u001b[0mmodeDict\u001b[0m\u001b[0;34m:\u001b[0m\u001b[0;34m\u001b[0m\u001b[0;34m\u001b[0m\u001b[0m\n",
            "\u001b[0;31mFileNotFoundError\u001b[0m: [Errno 2] No such file or directory: 'https://drive.google.com/drive/folders/1n3_xMUnvFLzg82Hjd_zNm009RPK0NwCP/url_df.xlsx'"
          ]
        }
      ]
    },
    {
      "metadata": {
        "id": "sDyV3yYLCgzS",
        "colab_type": "code",
        "colab": {}
      },
      "cell_type": "code",
      "source": [
        "articles = {}\n",
        "date_dict = {}\n",
        "provider_dict = {}\n",
        "\n",
        "for url in main_df['url']:\n",
        "    try:\n",
        "        response = requests.post(url)\n",
        "        html = response.text\n",
        "        dict1 = eval(html)\n",
        "        content = dict1['detail']['CONTENT']\n",
        "        articles[url] = content\n",
        "        date=dict1['detail']['DATE']\n",
        "        date_dict[url]=date\n",
        "        provider=dict1['detail']['PROVIDER']\n",
        "        provider_dict[url]=provider\n",
        "    except:\n",
        "        pass\n",
        "\n",
        "articles_df = pd.DataFrame(list(articles.items()),columns=['url','Contents'])\n",
        "total_df = pd.merge(main_df,articles_df,on=\"url\")\n",
        "date_df = pd.DataFrame(list(date_dict.items()),columns=['url','Date'])\n",
        "total_df = pd.merge(total_df,date_df,on='url')\n",
        "provider_df = pd.DataFrame(list(provider_dict.items()),columns=['url','Provider'])\n",
        "total_df = pd.merge(total_df,provider_df,on='url')"
      ],
      "execution_count": 0,
      "outputs": []
    },
    {
      "metadata": {
        "scrolled": true,
        "id": "TMcMhXF9CgzV",
        "colab_type": "code",
        "colab": {},
        "outputId": "b786c89b-a0c4-4464-9287-44332c5d24f3"
      },
      "cell_type": "code",
      "source": [
        "print(total_df['Provider'].unique()) # number of press discussed issues about \"이랜드\""
      ],
      "execution_count": 0,
      "outputs": [
        {
          "output_type": "stream",
          "text": [
            "['전북도민일보' '파이낸셜뉴스' '영남일보' '아시아경제' '경남도민일보' '경상일보' '매일경제' '전자신문' '매일신문'\n",
            " '한겨레' '국민일보' 'MBC' 'SBS' '내일신문' '한국경제' '세계일보' '경향신문' '광주일보' '서울경제' '문화일보'\n",
            " '국제신문' '한국일보' '무등일보' '서울신문' '머니투데이' '광주매일신문' '경기일보' '중부일보' '대구일보' '디지털타임스'\n",
            " '한라일보' '중도일보' '충북일보' '충청투데이' '강원도민일보' '대전일보' '경인일보' '부산일보' '중부매일' '전남일보'\n",
            " '전북일보' '경남신문' '헤럴드경제' '제민일보']\n"
          ],
          "name": "stdout"
        }
      ]
    },
    {
      "metadata": {
        "id": "TYCFbEeJCgzZ",
        "colab_type": "code",
        "colab": {}
      },
      "cell_type": "code",
      "source": [
        "total_df.to_excel(\"News.xlsx\") # Export the data as an excel file"
      ],
      "execution_count": 0,
      "outputs": []
    },
    {
      "metadata": {
        "id": "AthjxekvCgzb",
        "colab_type": "code",
        "colab": {}
      },
      "cell_type": "code",
      "source": [
        ""
      ],
      "execution_count": 0,
      "outputs": []
    },
    {
      "metadata": {
        "id": "yxZO4hZUCgzd",
        "colab_type": "code",
        "colab": {}
      },
      "cell_type": "code",
      "source": [
        ""
      ],
      "execution_count": 0,
      "outputs": []
    },
    {
      "metadata": {
        "id": "zYrY2s7gCgzf",
        "colab_type": "code",
        "colab": {}
      },
      "cell_type": "code",
      "source": [
        ""
      ],
      "execution_count": 0,
      "outputs": []
    }
  ]
}