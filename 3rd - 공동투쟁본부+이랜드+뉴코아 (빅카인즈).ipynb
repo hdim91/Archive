{
 "cells": [
  {
   "cell_type": "code",
   "execution_count": 1,
   "metadata": {
    "collapsed": true
   },
   "outputs": [],
   "source": [
    "from bs4 import BeautifulSoup as bs\n",
    "import requests,re,codecs\n",
    "import pandas as pd\n",
    "import csv\n",
    "textParsed = \"\""
   ]
  },
  {
   "cell_type": "code",
   "execution_count": 2,
   "metadata": {
    "collapsed": true,
    "scrolled": true
   },
   "outputs": [],
   "source": [
    "lines = '''pageInfo:bksMain\n",
    "login_chk:null\n",
    "LOGIN_SN:null\n",
    "LOGIN_NAME:null\n",
    "indexName:news\n",
    "keyword:이랜드 뉴코아 공동투쟁본부\n",
    "byLine:\n",
    "searchScope:1\n",
    "searchFtr:1\n",
    "startDate:2006-01-01\n",
    "endDate:2008-12-31\n",
    "sortMethod:date\n",
    "contentLength:100\n",
    "providerCode:\n",
    "categoryCode:\n",
    "incidentCode:\n",
    "dateCode:\n",
    "highlighting:true\n",
    "sessionUSID:\n",
    "sessionUUID:test\n",
    "listMode:\n",
    "categoryTab:\n",
    "newsId:\n",
    "delnewsId:\n",
    "delquotationId:\n",
    "delquotationtxt:\n",
    "filterProviderCode:\n",
    "filterCategoryCode:\n",
    "filterIncidentCode:\n",
    "filterDateCode:\n",
    "filterAnalysisCode:\n",
    "startNo:1\n",
    "resultNumber:100\n",
    "topmenuoff:\n",
    "resultState:\n",
    "keywordJson:{\"searchDetailTxt1\":\"이랜드 뉴코아 공동투쟁본부\",\"agreeDetailTxt1\":\"\",\"needDetailTxt1\":\"\",\"exceptDetailTxt1\":\"\",\"o_id\":\"option1\",\"startDate\":\"2006-01-01\",\"endDate\":\"2008-12-31\",\"providerNm\":\"\",\"categoryNm\":\"\",\"incidentCategoryNm\":\"\",\"providerCode\":\"\",\"categoryCode\":\"\",\"incidentCategoryCode\":\"\",\"searchFtr\":\"1\",\"searchScope\":\"1\",\"searchKeyword\":\"이랜드 뉴코아 공동투쟁본부\"}\n",
    "keywordFilterJson:\n",
    "realKeyword:\n",
    "keywordYn:Y\n",
    "totalCount:\n",
    "interval:\n",
    "quotationKeyword1:\n",
    "quotationKeyword2:\n",
    "quotationKeyword3:\n",
    "printingPage:\n",
    "searchFromUseYN:N\n",
    "searchFormName:\n",
    "searchFormSaveSn:\n",
    "mainTodayPersonYn:\n",
    "period:'''.splitlines()"
   ]
  },
  {
   "cell_type": "code",
   "execution_count": 3,
   "metadata": {
    "collapsed": true
   },
   "outputs": [],
   "source": [
    "data = {}\n",
    "for line in lines:\n",
    "    key,value = line.split(':',1)\n",
    "    if value=='null':\n",
    "        value = None\n",
    "    data[key] = value"
   ]
  },
  {
   "cell_type": "code",
   "execution_count": 4,
   "metadata": {
    "collapsed": true,
    "scrolled": true
   },
   "outputs": [],
   "source": [
    "result_url = \"https://www.bigkinds.or.kr/news/detailSearch.do\"\n",
    "url_list = {}\n",
    "for index in range(1,2):\n",
    "    data['startNo'] = index\n",
    "    response = requests.post(result_url,data=data)\n",
    "    html = response.text\n",
    "    soup = bs(html,\"html.parser\")\n",
    "    for tag in soup.select('.resultList li h3'):\n",
    "        key = tag.text.strip()\n",
    "        doc_id = tag['id'].replace('news_','')\n",
    "        value = 'https://www.bigkinds.or.kr/news/detailView.do?docId={}&returnCnt=1'.format(doc_id)\n",
    "        url_list[key] = value\n",
    "main_df = pd.DataFrame(list(url_list.items()),columns=['Title','url'])"
   ]
  },
  {
   "cell_type": "code",
   "execution_count": 5,
   "metadata": {},
   "outputs": [
    {
     "data": {
      "text/html": [
       "<div>\n",
       "<table border=\"1\" class=\"dataframe\">\n",
       "  <thead>\n",
       "    <tr style=\"text-align: right;\">\n",
       "      <th></th>\n",
       "      <th>Title</th>\n",
       "      <th>url</th>\n",
       "    </tr>\n",
       "  </thead>\n",
       "  <tbody>\n",
       "    <tr>\n",
       "      <th>0</th>\n",
       "      <td>뉴코아노조 \"사측, 노조양보안 수용해야\"</td>\n",
       "      <td>https://www.bigkinds.or.kr/news/detailView.do?...</td>\n",
       "    </tr>\n",
       "    <tr>\n",
       "      <th>1</th>\n",
       "      <td>이랜드 1인시위자-점주 충돌 /폭행사고 났는데 경찰은 ‘뒷짐’</td>\n",
       "      <td>https://www.bigkinds.or.kr/news/detailView.do?...</td>\n",
       "    </tr>\n",
       "    <tr>\n",
       "      <th>2</th>\n",
       "      <td>[단독] 경찰, 이랜드 노조원 이례적 ‘지문채취 영장’ 파문</td>\n",
       "      <td>https://www.bigkinds.or.kr/news/detailView.do?...</td>\n",
       "    </tr>\n",
       "    <tr>\n",
       "      <th>3</th>\n",
       "      <td>경찰, ''이랜드 농성'' 주도 3명 구속… 노조원 등 192명 불구속입건</td>\n",
       "      <td>https://www.bigkinds.or.kr/news/detailView.do?...</td>\n",
       "    </tr>\n",
       "    <tr>\n",
       "      <th>4</th>\n",
       "      <td>수원지법, 뉴코아집행부 3명 영장발부</td>\n",
       "      <td>https://www.bigkinds.or.kr/news/detailView.do?...</td>\n",
       "    </tr>\n",
       "  </tbody>\n",
       "</table>\n",
       "</div>"
      ],
      "text/plain": [
       "                                       Title  \\\n",
       "0                     뉴코아노조 \"사측, 노조양보안 수용해야\"   \n",
       "1         이랜드 1인시위자-점주 충돌 /폭행사고 났는데 경찰은 ‘뒷짐’   \n",
       "2          [단독] 경찰, 이랜드 노조원 이례적 ‘지문채취 영장’ 파문   \n",
       "3  경찰, ''이랜드 농성'' 주도 3명 구속… 노조원 등 192명 불구속입건   \n",
       "4                       수원지법, 뉴코아집행부 3명 영장발부   \n",
       "\n",
       "                                                 url  \n",
       "0  https://www.bigkinds.or.kr/news/detailView.do?...  \n",
       "1  https://www.bigkinds.or.kr/news/detailView.do?...  \n",
       "2  https://www.bigkinds.or.kr/news/detailView.do?...  \n",
       "3  https://www.bigkinds.or.kr/news/detailView.do?...  \n",
       "4  https://www.bigkinds.or.kr/news/detailView.do?...  "
      ]
     },
     "execution_count": 5,
     "metadata": {},
     "output_type": "execute_result"
    }
   ],
   "source": [
    "main_df.head()"
   ]
  },
  {
   "cell_type": "code",
   "execution_count": 6,
   "metadata": {
    "collapsed": true
   },
   "outputs": [],
   "source": [
    "main_df.to_excel('공동투_url.xlsx')"
   ]
  },
  {
   "cell_type": "code",
   "execution_count": 7,
   "metadata": {
    "collapsed": true
   },
   "outputs": [],
   "source": [
    "date_dict = {}\n",
    "articles = {}\n",
    "provider_dict = {}\n",
    "\n",
    "for url in main_df['url']:\n",
    "    try:\n",
    "        response = requests.post(url)\n",
    "        html = response.text\n",
    "        dict1 = eval(html)\n",
    "        content = dict1['detail']['CONTENT']\n",
    "        articles[url] = content\n",
    "        date=dict1['detail']['DATE']\n",
    "        date_dict[url]=date\n",
    "        provider=dict1['detail']['PROVIDER']\n",
    "        provider_dict[url]=provider\n",
    "    except:\n",
    "        pass\n",
    "\n",
    "    \n",
    "articles_df = pd.DataFrame(list(articles.items()),columns=['url','Contents'])\n",
    "total_df = pd.merge(main_df,articles_df,on=\"url\")\n",
    "date_df = pd.DataFrame(list(date_dict.items()),columns=['url','Date'])\n",
    "total_df = pd.merge(total_df,date_df,on='url')\n",
    "provider_df = pd.DataFrame(list(provider_dict.items()),columns=['url','Provider'])\n",
    "total_df = pd.merge(total_df,provider_df,on='url')"
   ]
  },
  {
   "cell_type": "code",
   "execution_count": 8,
   "metadata": {
    "scrolled": true
   },
   "outputs": [
    {
     "name": "stdout",
     "output_type": "stream",
     "text": [
      "['중부일보' '한겨레' '서울신문' '세계일보' '국민일보' '국제신문' '충청투데이' '한국경제' '부산일보' '머니투데이'\n",
      " '서울경제']\n"
     ]
    }
   ],
   "source": [
    "print(total_df['Provider'].unique())"
   ]
  },
  {
   "cell_type": "code",
   "execution_count": 9,
   "metadata": {},
   "outputs": [
    {
     "data": {
      "text/html": [
       "<div>\n",
       "<table border=\"1\" class=\"dataframe\">\n",
       "  <thead>\n",
       "    <tr style=\"text-align: right;\">\n",
       "      <th></th>\n",
       "      <th>Title</th>\n",
       "      <th>url</th>\n",
       "      <th>Contents</th>\n",
       "      <th>Date</th>\n",
       "      <th>Provider</th>\n",
       "    </tr>\n",
       "  </thead>\n",
       "  <tbody>\n",
       "    <tr>\n",
       "      <th>0</th>\n",
       "      <td>뉴코아노조 \"사측, 노조양보안 수용해야\"</td>\n",
       "      <td>https://www.bigkinds.or.kr/news/detailView.do?...</td>\n",
       "      <td>뉴코아-이랜드 일반노동조합 공동투쟁본부는 28일 서울 서초구 뉴코아 강남점 앞에서 ...</td>\n",
       "      <td>20071228</td>\n",
       "      <td>중부일보</td>\n",
       "    </tr>\n",
       "    <tr>\n",
       "      <th>1</th>\n",
       "      <td>이랜드 1인시위자-점주 충돌 /폭행사고 났는데 경찰은 ‘뒷짐’</td>\n",
       "      <td>https://www.bigkinds.or.kr/news/detailView.do?...</td>\n",
       "      <td>이랜드그룹의 비정규직 노동자 해고에 항의하며 매장 앞에서 1인시위를 하려던 대학생들...</td>\n",
       "      <td>20070806</td>\n",
       "      <td>한겨레</td>\n",
       "    </tr>\n",
       "    <tr>\n",
       "      <th>2</th>\n",
       "      <td>[단독] 경찰, 이랜드 노조원 이례적 ‘지문채취 영장’ 파문</td>\n",
       "      <td>https://www.bigkinds.or.kr/news/detailView.do?...</td>\n",
       "      <td>경찰이 지난달 31일 연행한 이랜드 노조원 197명을 소환·조사하면서 노조원 가운데...</td>\n",
       "      <td>20070803</td>\n",
       "      <td>서울신문</td>\n",
       "    </tr>\n",
       "    <tr>\n",
       "      <th>3</th>\n",
       "      <td>경찰, ''이랜드 농성'' 주도 3명 구속… 노조원 등 192명 불구속입건</td>\n",
       "      <td>https://www.bigkinds.or.kr/news/detailView.do?...</td>\n",
       "      <td>경찰은 지난달 29∼31일 서울 뉴코아 강남점을 재점거해 농성을 벌인 혐의(업무방해...</td>\n",
       "      <td>20070803</td>\n",
       "      <td>세계일보</td>\n",
       "    </tr>\n",
       "    <tr>\n",
       "      <th>4</th>\n",
       "      <td>수원지법, 뉴코아집행부 3명 영장발부</td>\n",
       "      <td>https://www.bigkinds.or.kr/news/detailView.do?...</td>\n",
       "      <td>이랜드 매장 점거 농성 등 시위를 벌이고 있는 뉴코아 노조 집행부 3명에 대해 경찰...</td>\n",
       "      <td>20070802</td>\n",
       "      <td>중부일보</td>\n",
       "    </tr>\n",
       "  </tbody>\n",
       "</table>\n",
       "</div>"
      ],
      "text/plain": [
       "                                       Title  \\\n",
       "0                     뉴코아노조 \"사측, 노조양보안 수용해야\"   \n",
       "1         이랜드 1인시위자-점주 충돌 /폭행사고 났는데 경찰은 ‘뒷짐’   \n",
       "2          [단독] 경찰, 이랜드 노조원 이례적 ‘지문채취 영장’ 파문   \n",
       "3  경찰, ''이랜드 농성'' 주도 3명 구속… 노조원 등 192명 불구속입건   \n",
       "4                       수원지법, 뉴코아집행부 3명 영장발부   \n",
       "\n",
       "                                                 url  \\\n",
       "0  https://www.bigkinds.or.kr/news/detailView.do?...   \n",
       "1  https://www.bigkinds.or.kr/news/detailView.do?...   \n",
       "2  https://www.bigkinds.or.kr/news/detailView.do?...   \n",
       "3  https://www.bigkinds.or.kr/news/detailView.do?...   \n",
       "4  https://www.bigkinds.or.kr/news/detailView.do?...   \n",
       "\n",
       "                                            Contents      Date Provider  \n",
       "0  뉴코아-이랜드 일반노동조합 공동투쟁본부는 28일 서울 서초구 뉴코아 강남점 앞에서 ...  20071228     중부일보  \n",
       "1  이랜드그룹의 비정규직 노동자 해고에 항의하며 매장 앞에서 1인시위를 하려던 대학생들...  20070806      한겨레  \n",
       "2  경찰이 지난달 31일 연행한 이랜드 노조원 197명을 소환·조사하면서 노조원 가운데...  20070803     서울신문  \n",
       "3  경찰은 지난달 29∼31일 서울 뉴코아 강남점을 재점거해 농성을 벌인 혐의(업무방해...  20070803     세계일보  \n",
       "4  이랜드 매장 점거 농성 등 시위를 벌이고 있는 뉴코아 노조 집행부 3명에 대해 경찰...  20070802     중부일보  "
      ]
     },
     "execution_count": 9,
     "metadata": {},
     "output_type": "execute_result"
    }
   ],
   "source": [
    "total_df.head()"
   ]
  },
  {
   "cell_type": "code",
   "execution_count": 11,
   "metadata": {
    "collapsed": true
   },
   "outputs": [],
   "source": [
    "total_df.to_excel(\"News_공동투+이랜드+뉴코아.xlsx\")"
   ]
  }
 ],
 "metadata": {
  "kernelspec": {
   "display_name": "Python 3",
   "language": "python",
   "name": "python3"
  },
  "language_info": {
   "codemirror_mode": {
    "name": "ipython",
    "version": 3
   },
   "file_extension": ".py",
   "mimetype": "text/x-python",
   "name": "python",
   "nbconvert_exporter": "python",
   "pygments_lexer": "ipython3",
   "version": "3.6.0"
  }
 },
 "nbformat": 4,
 "nbformat_minor": 2
}
