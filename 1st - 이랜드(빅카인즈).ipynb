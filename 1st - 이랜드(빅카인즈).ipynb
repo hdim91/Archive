{
 "cells": [
  {
   "cell_type": "code",
   "execution_count": 11,
   "metadata": {},
   "outputs": [],
   "source": [
    "from bs4 import BeautifulSoup as bs\n",
    "import requests,re,codecs\n",
    "import pandas as pd\n",
    "import csv\n",
    "import time"
   ]
  },
  {
   "cell_type": "code",
   "execution_count": null,
   "metadata": {
    "collapsed": true
   },
   "outputs": [],
   "source": [
    "# Searchpad\n",
    "\n",
    "# div class=\"deSearchBox scrollbarStyle mCustomScrollbar _mCS_12\" id=\"deSearchBox\" tyle=\"display: block;\"\n",
    "# div class=\"deSeTd tdA\"\n",
    "#     input type=\"text\" clas=\"dateBox\" id=\"fromdate\"\n",
    "#     들어가야 할 것: 2006-01-01\n",
    "#     input type=\"text\" clas=\"dateBox\" id=\"todate\"\n",
    "#     들어가야 할 것: 2008-12-31\n",
    "\n",
    "# div class \"deSearchBtn\"\n",
    "#     button id = \"searchSubmit\" class=\"activate\""
   ]
  },
  {
   "cell_type": "code",
   "execution_count": 2,
   "metadata": {
    "collapsed": true,
    "scrolled": true
   },
   "outputs": [],
   "source": [
    "# Query data for searching for \"이랜드\"\n",
    "lines = '''pageInfo:bksMain\n",
    "login_chk:null\n",
    "LOGIN_SN:null\n",
    "LOGIN_NAME:null\n",
    "indexName:news\n",
    "keyword:이랜드\n",
    "byLine:\n",
    "searchScope:1\n",
    "searchFtr:1\n",
    "startDate:2006-01-01\n",
    "endDate:2008-12-31\n",
    "sortMethod:date\n",
    "contentLength:100\n",
    "providerCode:\n",
    "categoryCode:\n",
    "incidentCode:\n",
    "dateCode:\n",
    "highlighting:true\n",
    "sessionUSID:\n",
    "sessionUUID:test\n",
    "listMode:\n",
    "categoryTab:\n",
    "newsId:\n",
    "delnewsId:\n",
    "delquotationId:\n",
    "delquotationtxt:\n",
    "filterProviderCode:\n",
    "filterCategoryCode:\n",
    "filterIncidentCode:\n",
    "filterDateCode:\n",
    "filterAnalysisCode:\n",
    "startNo:1\n",
    "resultNumber:100\n",
    "topmenuoff:\n",
    "resultState:\n",
    "keywordJson:{\"searchDetailTxt1\":\"이랜드\",\"agreeDetailTxt1\":\"\",\"needDetailTxt1\":\"\",\"exceptDetailTxt1\":\"\",\"o_id\":\"option1\",\"startDate\":\"2006-01-01\",\"endDate\":\"2008-12-31\",\"providerNm\":\"\",\"categoryNm\":\"\",\"incidentCategoryNm\":\"\",\"providerCode\":\"\",\"categoryCode\":\"\",\"incidentCategoryCode\":\"\",\"searchFtr\":\"1\",\"searchScope\":\"1\",\"searchKeyword\":\"이랜드\"}\n",
    "keywordFilterJson:\n",
    "realKeyword:\n",
    "keywordYn:Y\n",
    "totalCount:\n",
    "interval:\n",
    "quotationKeyword1:\n",
    "quotationKeyword2:\n",
    "quotationKeyword3:\n",
    "printingPage:\n",
    "searchFromUseYN:N\n",
    "searchFormName:\n",
    "searchFormSaveSn:\n",
    "mainTodayPersonYn:\n",
    "period:'''.splitlines()"
   ]
  },
  {
   "cell_type": "code",
   "execution_count": 3,
   "metadata": {
    "collapsed": true
   },
   "outputs": [],
   "source": [
    "# Construct a dictionary for the targeting url\n",
    "data = {}\n",
    "for line in lines:\n",
    "    key,value = line.split(':',1)\n",
    "    if value=='null':\n",
    "        value = None\n",
    "    data[key] = value"
   ]
  },
  {
   "cell_type": "code",
   "execution_count": 40,
   "metadata": {
    "collapsed": true,
    "scrolled": true
   },
   "outputs": [],
   "source": [
    "# search for html\n",
    "response = requests.post(result_url,data=data)\n",
    "html = response.text\n",
    "soup = bs(html,\"html.parser\")"
   ]
  },
  {
   "cell_type": "code",
   "execution_count": 4,
   "metadata": {
    "collapsed": true
   },
   "outputs": [],
   "source": [
    "url_list = {}\n",
    "result_url = \"https://www.bigkinds.or.kr/news/detailSearch.do\"\n",
    "\n",
    "for index in range(1,51): # There are 51 of indexes for the keyword \"이랜드\"\n",
    "    data['startNo'] = index # Set the page number\n",
    "    response = requests.post(result_url,data=data) # Call url of targeting page\n",
    "    html = response.text # Save html text as \"html\"\n",
    "    soup = bs(html,\"html.parser\") # Parsing html text\n",
    "    for tag in soup.select('.resultList li h3'):\n",
    "        key = tag.text.strip() # Setting title of an article as the key value of dictionary\n",
    "        doc_id = tag['id'].replace('news_','')\n",
    "        value = 'https://www.bigkinds.or.kr/news/detailView.do?docId={}&returnCnt=1'.format(doc_id) # Setting article url as the value of dictionary\n",
    "        url_list[key] = value # Construct the dictionary of the list of news articles' titles and urls \n",
    "    "
   ]
  },
  {
   "cell_type": "code",
   "execution_count": 6,
   "metadata": {
    "collapsed": true
   },
   "outputs": [],
   "source": [
    "main_df = pd.DataFrame(list(url_list.items()),columns=['Title','url'])"
   ]
  },
  {
   "cell_type": "code",
   "execution_count": 9,
   "metadata": {
    "collapsed": true
   },
   "outputs": [],
   "source": [
    "main_df.to_excel(\"url_df.xlsx\") # Save url_df as excel file for future use - just in case"
   ]
  },
  {
   "cell_type": "code",
   "execution_count": 12,
   "metadata": {
    "collapsed": true
   },
   "outputs": [],
   "source": [
    "articles = {}\n",
    "date_dict = {}\n",
    "provider_dict = {}\n",
    "\n",
    "for url in main_df['url']:\n",
    "    try:\n",
    "        response = requests.post(url)\n",
    "        html = response.text\n",
    "        dict1 = eval(html)\n",
    "        content = dict1['detail']['CONTENT']\n",
    "        articles[url] = content\n",
    "        date=dict1['detail']['DATE']\n",
    "        date_dict[url]=date\n",
    "        provider=dict1['detail']['PROVIDER']\n",
    "        provider_dict[url]=provider\n",
    "    except:\n",
    "        pass\n",
    "\n",
    "articles_df = pd.DataFrame(list(articles.items()),columns=['url','Contents'])\n",
    "total_df = pd.merge(main_df,articles_df,on=\"url\")\n",
    "date_df = pd.DataFrame(list(date_dict.items()),columns=['url','Date'])\n",
    "total_df = pd.merge(total_df,date_df,on='url')\n",
    "provider_df = pd.DataFrame(list(provider_dict.items()),columns=['url','Provider'])\n",
    "total_df = pd.merge(total_df,provider_df,on='url')"
   ]
  },
  {
   "cell_type": "code",
   "execution_count": 13,
   "metadata": {
    "scrolled": true
   },
   "outputs": [
    {
     "name": "stdout",
     "output_type": "stream",
     "text": [
      "['전북도민일보' '파이낸셜뉴스' '영남일보' '아시아경제' '경남도민일보' '경상일보' '매일경제' '전자신문' '매일신문'\n",
      " '한겨레' '국민일보' 'MBC' 'SBS' '내일신문' '한국경제' '세계일보' '경향신문' '광주일보' '서울경제' '문화일보'\n",
      " '국제신문' '한국일보' '무등일보' '서울신문' '머니투데이' '광주매일신문' '경기일보' '중부일보' '대구일보' '디지털타임스'\n",
      " '한라일보' '중도일보' '충북일보' '충청투데이' '강원도민일보' '대전일보' '경인일보' '부산일보' '중부매일' '전남일보'\n",
      " '전북일보' '경남신문' '헤럴드경제' '제민일보']\n"
     ]
    }
   ],
   "source": [
    "print(total_df['Provider'].unique()) # number of press discussed issues about \"이랜드\""
   ]
  },
  {
   "cell_type": "code",
   "execution_count": 14,
   "metadata": {
    "collapsed": true
   },
   "outputs": [],
   "source": [
    "total_df.to_excel(\"News.xlsx\") # Export the data as an excel file"
   ]
  },
  {
   "cell_type": "code",
   "execution_count": null,
   "metadata": {
    "collapsed": true
   },
   "outputs": [],
   "source": []
  },
  {
   "cell_type": "code",
   "execution_count": null,
   "metadata": {
    "collapsed": true
   },
   "outputs": [],
   "source": []
  },
  {
   "cell_type": "code",
   "execution_count": null,
   "metadata": {
    "collapsed": true
   },
   "outputs": [],
   "source": []
  }
 ],
 "metadata": {
  "kernelspec": {
   "display_name": "Python 3",
   "language": "python",
   "name": "python3"
  },
  "language_info": {
   "codemirror_mode": {
    "name": "ipython",
    "version": 3
   },
   "file_extension": ".py",
   "mimetype": "text/x-python",
   "name": "python",
   "nbconvert_exporter": "python",
   "pygments_lexer": "ipython3",
   "version": "3.6.4"
  }
 },
 "nbformat": 4,
 "nbformat_minor": 2
}
